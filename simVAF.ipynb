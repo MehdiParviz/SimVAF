{
  "nbformat": 4,
  "nbformat_minor": 0,
  "metadata": {
    "colab": {
      "provenance": [],
      "authorship_tag": "ABX9TyPFbu15deE55YxCIDMGJm9G",
      "include_colab_link": true
    },
    "kernelspec": {
      "name": "python3",
      "display_name": "Python 3"
    },
    "language_info": {
      "name": "python"
    }
  },
  "cells": [
    {
      "cell_type": "markdown",
      "metadata": {
        "id": "view-in-github",
        "colab_type": "text"
      },
      "source": [
        "<a href=\"https://colab.research.google.com/github/MehdiParviz/SimVAF/blob/main/simVAF.ipynb\" target=\"_parent\"><img src=\"https://colab.research.google.com/assets/colab-badge.svg\" alt=\"Open In Colab\"/></a>"
      ]
    },
    {
      "cell_type": "code",
      "source": [
        "# import \n",
        "import random"
      ],
      "metadata": {
        "id": "HhQVzDCXLSGI"
      },
      "execution_count": 4,
      "outputs": []
    },
    {
      "cell_type": "code",
      "execution_count": 14,
      "metadata": {
        "id": "OBWGz4cbG6Uk"
      },
      "outputs": [],
      "source": [
        "# simulating VAF, read depth\n",
        "p_mut = 0.1 # Probability of a mutation P(M=1)\n",
        "vaf = 0.2\n",
        "p_vaf = 1 if vaf>=0.05 else 0 # In ideal scenario, assuming VAF of 5% or more as a mutation P(VAF|Y=1) = 1 if VAF>5% else 0\n"
      ]
    },
    {
      "cell_type": "code",
      "source": [
        "def gen_vaf(seq_dev, mutation_status):\n",
        "  if seq_dev == \"s1\":\n",
        "    if mutation_status == 1:\n",
        "      vaf = 20\n",
        "    else:\n",
        "      vaf = 0\n",
        "  elif seq_dev == \"s2\":\n",
        "    if mutation_status == 1:\n",
        "      vaf = random.randint(1,20)\n",
        "    else:\n",
        "      vaf = 0\n",
        "  else:\n",
        "    if mutation_status == 1:\n",
        "      vaf = 0.05 + 0.95 * random.random()\n",
        "    else:\n",
        "      vaf = 0\n",
        "  return vaf"
      ],
      "metadata": {
        "id": "R7kAqGziKvpQ"
      },
      "execution_count": 8,
      "outputs": []
    },
    {
      "cell_type": "code",
      "source": [
        "gen_vaf(\"s3\", 0)"
      ],
      "metadata": {
        "colab": {
          "base_uri": "https://localhost:8080/"
        },
        "id": "up7RysmDJm8X",
        "outputId": "cc302b66-c100-4ec8-96cb-1a8569f27f4f"
      },
      "execution_count": 13,
      "outputs": [
        {
          "output_type": "execute_result",
          "data": {
            "text/plain": [
              "0"
            ]
          },
          "metadata": {},
          "execution_count": 13
        }
      ]
    },
    {
      "cell_type": "code",
      "source": [],
      "metadata": {
        "id": "OfvPTd1yLQai"
      },
      "execution_count": null,
      "outputs": []
    }
  ]
}